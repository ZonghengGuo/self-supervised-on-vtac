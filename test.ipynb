{
 "cells": [
  {
   "cell_type": "code",
   "id": "initial_id",
   "metadata": {
    "collapsed": true,
    "ExecuteTime": {
     "end_time": "2025-03-31T12:57:02.911385Z",
     "start_time": "2025-03-31T12:57:00.357298Z"
    }
   },
   "source": [
    "import wfdb\n",
    "\n",
    "path = r'D:\\database\\vtac\\waveforms\\003c13\\003c13_0115'\n",
    "record = wfdb.rdrecord(path)\n",
    "print(record.__dict__)"
   ],
   "outputs": [
    {
     "name": "stdout",
     "output_type": "stream",
     "text": [
      "{'record_name': '003c13_0115', 'n_sig': 4, 'fs': 250, 'counter_freq': None, 'base_counter': None, 'sig_len': 90000, 'base_time': None, 'base_date': None, 'comments': [], 'sig_name': ['II', 'aVR', 'V', 'PLETH'], 'p_signal': array([[-0.16002776,  0.07500295,  0.01499742,  0.37890057],\n",
      "       [-0.15498843,  0.07000025,  0.01000624,  0.37890057],\n",
      "       [-0.12498689,  0.04998943,  0.        ,  0.37401999],\n",
      "       ...,\n",
      "       [-0.03000154,  0.02501352, -0.01499742,  0.57592337],\n",
      "       [-0.03498227,  0.01500811,  0.01000624,  0.56884653],\n",
      "       [-0.03000154,  0.0050027 ,  0.02500366,  0.56884653]],\n",
      "      shape=(90000, 4)), 'd_signal': None, 'e_p_signal': None, 'e_d_signal': None, 'file_name': ['003c13_0115.dat', '003c13_0115.dat', '003c13_0115.dat', '003c13_0115.dat'], 'fmt': ['16', '16', '16', '16'], 'samps_per_frame': [1, 1, 1, 1], 'skew': [None, None, None, None], 'byte_offset': [None, None, None, None], 'adc_gain': [17065.78947368421, 26585.62091503268, 41873.87387387387, 65566.01465559355], 'baseline': [-19797, 7909, 13713, -32767], 'units': ['mV', 'mV', 'mV', 'NU'], 'adc_res': [16, 16, 16, 16], 'adc_zero': [0, 0, 0, 0], 'init_value': [-22528, 9903, 14341, -7924], 'checksum': [21519, 27396, 26803, 19542], 'block_size': [0, 0, 0, 0]}\n"
     ]
    }
   ],
   "execution_count": 1
  },
  {
   "metadata": {
    "ExecuteTime": {
     "end_time": "2025-03-31T13:06:29.770328Z",
     "start_time": "2025-03-31T13:06:29.690567Z"
    }
   },
   "cell_type": "code",
   "source": [
    "path = r'D:\\database\\vtac\\waveforms\\0ea8d6\\0ea8d6_0163'\n",
    "record = wfdb.rdrecord(path)\n",
    "print(record.__dict__)"
   ],
   "id": "ccd40546ec2738d0",
   "outputs": [
    {
     "name": "stdout",
     "output_type": "stream",
     "text": [
      "{'record_name': '0ea8d6_0163', 'n_sig': 6, 'fs': 250, 'counter_freq': None, 'base_counter': None, 'sig_len': 90000, 'base_time': None, 'base_date': None, 'comments': [], 'sig_name': ['I', 'II', 'III', 'V', 'PLETH', 'ABP'], 'p_signal': array([[ 2.41557543e-01,  3.05057396e-01,  3.41444553e-02,\n",
      "        -2.17163750e-01,  2.54000996e+00,  1.03799436e+02],\n",
      "       [ 2.41557543e-01,  3.05057396e-01,  3.41444553e-02,\n",
      "        -2.17163750e-01,  2.54000996e+00,  1.03799436e+02],\n",
      "       [ 3.05027289e-01,  2.51274883e-01, -8.29222486e-02,\n",
      "        -3.29411716e-01,  2.54000996e+00,  1.03000017e+02],\n",
      "       ...,\n",
      "       [ 6.59053796e-02,  7.07991513e-02,  9.75555866e-03,\n",
      "         9.77624346e-03,  3.94501121e+00,  8.83993159e+01],\n",
      "       [ 6.34697460e-02,  8.54558177e-02,  2.92666760e-02,\n",
      "         1.94928757e-02,  3.92995143e+00,  8.93991278e+01],\n",
      "       [ 6.10341124e-02,  9.02999702e-02,  3.90222347e-02,\n",
      "         9.77624346e-03,  3.91001619e+00,  9.10001197e+01]],\n",
      "      shape=(90000, 6)), 'd_signal': None, 'e_p_signal': None, 'e_d_signal': None, 'file_name': ['0ea8d6_0163.dat', '0ea8d6_0163.dat', '0ea8d6_0163.dat', '0ea8d6_0163.dat', '0ea8d6_0163.dat', '0ea8d6_0163.dat'], 'fmt': ['16', '16', '16', '16', '16', '16'], 'samps_per_frame': [1, 1, 1, 1, 1, 1], 'skew': [None, None, None, None, None, None], 'byte_offset': [None, None, None, None, None, None], 'adc_gain': [13959.406746008708, 8050.943965217392, 6560.362374624947, 16775.35963478261, 9229.885057471265, 464.0873015873016], 'baseline': [-9299, 14674, 4578, -4524, -36782, -44462], 'units': ['mV', 'mV', 'mV', 'mV', 'mV', 'mmHg'], 'adc_res': [16, 16, 16, 16, 16, 16], 'adc_zero': [0, 0, 0, 0, 0, 0], 'init_value': [-5927, 17130, 4802, -8167, -13338, 3710], 'checksum': [29844, 55664, 61628, 51737, 51414, 1158], 'block_size': [0, 0, 0, 0, 0, 0]}\n"
     ]
    }
   ],
   "execution_count": 10
  }
 ],
 "metadata": {
  "kernelspec": {
   "display_name": "Python 3",
   "language": "python",
   "name": "python3"
  },
  "language_info": {
   "codemirror_mode": {
    "name": "ipython",
    "version": 2
   },
   "file_extension": ".py",
   "mimetype": "text/x-python",
   "name": "python",
   "nbconvert_exporter": "python",
   "pygments_lexer": "ipython2",
   "version": "2.7.6"
  }
 },
 "nbformat": 4,
 "nbformat_minor": 5
}
