{
 "cells": [
  {
   "cell_type": "code",
   "id": "initial_id",
   "metadata": {
    "collapsed": true,
    "ExecuteTime": {
     "end_time": "2025-03-26T16:27:32.294263Z",
     "start_time": "2025-03-26T16:27:27.777358Z"
    }
   },
   "source": [
    "import os\n",
    "import wfdb\n",
    "from tqdm import tqdm\n",
    "\n",
    "lead_count = dict()\n",
    "dataset_path = r\"D:\\database\\vtac\"\n",
    "\n",
    "record_cnt = 0\n",
    "# get waveform and record_name\n",
    "waveform_path = os.path.join(dataset_path, \"waveforms\")\n",
    "\n",
    "for record in tqdm(os.listdir(waveform_path)):\n",
    "    record_path = os.path.join(waveform_path, record)\n",
    "\n",
    "    event_id_set = set()\n",
    "    for event in os.listdir(record_path):\n",
    "        event_id_set.add(os.path.splitext(event)[0])\n",
    "\n",
    "    for event_id in event_id_set:\n",
    "        event_path = os.path.join(record_path, event_id)\n",
    "        sample_record = wfdb.rdrecord(event_path).p_signal\n",
    "        sample_name = wfdb.rdrecord(event_path).record_name\n",
    "        sig_names = wfdb.rdrecord(event_path).sig_name\n",
    "        if \"ABP\" not in sig_names or \"PLETH\" not in sig_names or \"II\" not in sig_names or \"V\" not in sig_names:\n",
    "            continue\n",
    "\n",
    "        print(sig_names)\n",
    "        print(len(sample_record[0]))\n",
    "\n",
    "\n",
    "        for sig_name in sig_names:\n",
    "\n",
    "            if sig_name not in lead_count:\n",
    "                lead_count[sig_name] = 1\n",
    "            else:\n",
    "                lead_count[sig_name] += 1\n",
    "        record_cnt += 1"
   ],
   "outputs": [
    {
     "name": "stderr",
     "output_type": "stream",
     "text": [
      "  0%|          | 4/2260 [00:00<02:07, 17.70it/s]"
     ]
    },
    {
     "name": "stdout",
     "output_type": "stream",
     "text": [
      "['I', 'II', 'V', 'PLETH', 'ABP']\n",
      "5\n",
      "['II', 'aVR', 'V', 'PLETH', 'ABP']\n",
      "5\n",
      "['I', 'II', 'aVR', 'V', 'PLETH', 'ABP']\n",
      "6\n",
      "['I', 'II', 'V', 'PLETH', 'ABP']\n",
      "5\n",
      "['I', 'II', 'III', 'V', 'PLETH', 'ABP']\n",
      "6\n",
      "['I', 'II', 'III', 'V', 'PLETH', 'ABP']\n",
      "6\n"
     ]
    },
    {
     "name": "stderr",
     "output_type": "stream",
     "text": [
      "  0%|          | 9/2260 [00:00<02:05, 17.94it/s]"
     ]
    },
    {
     "name": "stdout",
     "output_type": "stream",
     "text": [
      "['II', 'aVR', 'V', 'PLETH', 'ABP']\n",
      "5\n",
      "['II', 'aVR', 'V', 'PLETH', 'ABP']\n",
      "5\n",
      "['II', 'aVR', 'V', 'PLETH', 'ABP']\n",
      "5\n",
      "['I', 'II', 'III', 'V', 'PLETH', 'ABP']\n",
      "6\n"
     ]
    },
    {
     "name": "stderr",
     "output_type": "stream",
     "text": [
      "  1%|          | 16/2260 [00:00<01:48, 20.73it/s]"
     ]
    },
    {
     "name": "stdout",
     "output_type": "stream",
     "text": [
      "['I', 'II', 'III', 'V', 'PLETH', 'ABP']\n",
      "6\n",
      "['I', 'II', 'III', 'V', 'PLETH', 'ABP']\n",
      "6\n",
      "['I', 'II', 'III', 'V', 'PLETH', 'ABP']\n",
      "6\n",
      "['I', 'II', 'III', 'V', 'PLETH', 'ABP']\n",
      "6\n",
      "['I', 'II', 'III', 'V', 'PLETH', 'ABP']\n",
      "6\n"
     ]
    },
    {
     "name": "stderr",
     "output_type": "stream",
     "text": [
      "  1%|          | 23/2260 [00:01<01:42, 21.81it/s]"
     ]
    },
    {
     "name": "stdout",
     "output_type": "stream",
     "text": [
      "['II', 'aVR', 'V', 'PLETH', 'ABP']\n",
      "5\n",
      "['II', 'aVR', 'V', 'PLETH', 'ABP']\n",
      "5\n",
      "['II', 'aVR', 'V', 'PLETH', 'ABP']\n",
      "5\n",
      "['II', 'aVR', 'V', 'PLETH', 'ABP']\n",
      "5\n",
      "['II', 'aVR', 'V', 'PLETH', 'ABP']\n",
      "5\n",
      "['II', 'aVR', 'V', 'PLETH', 'ABP']\n",
      "5\n",
      "['II', 'aVR', 'V', 'PLETH', 'ABP']\n",
      "5\n",
      "['II', 'aVR', 'V', 'PLETH', 'ABP']\n",
      "5\n",
      "['II', 'aVR', 'V', 'PLETH', 'ABP']\n",
      "5\n"
     ]
    },
    {
     "name": "stderr",
     "output_type": "stream",
     "text": [
      "  1%|          | 26/2260 [00:01<01:55, 19.42it/s]"
     ]
    },
    {
     "name": "stdout",
     "output_type": "stream",
     "text": [
      "['II', 'aVR', 'V', 'PLETH', 'ABP']\n",
      "5\n",
      "['II', 'aVR', 'V', 'PLETH', 'ABP']\n",
      "5\n",
      "['I', 'II', 'III', 'V', 'PLETH', 'ABP']\n",
      "6\n"
     ]
    },
    {
     "name": "stderr",
     "output_type": "stream",
     "text": [
      "  1%|▏         | 33/2260 [00:01<01:41, 22.04it/s]"
     ]
    },
    {
     "name": "stdout",
     "output_type": "stream",
     "text": [
      "['II', 'aVR', 'V', 'PLETH', 'ABP']\n",
      "5\n",
      "['II', 'aVR', 'V', 'PLETH', 'ABP']\n",
      "5\n",
      "['II', 'aVR', 'V', 'PLETH', 'ABP']\n",
      "5\n",
      "['II', 'aVR', 'V', 'PLETH', 'ABP']\n",
      "5\n",
      "['II', 'aVR', 'V', 'PLETH', 'ABP']\n",
      "5\n",
      "['II', 'aVR', 'V', 'PLETH', 'ABP']\n",
      "5\n",
      "['II', 'aVR', 'V', 'PLETH', 'ABP']\n",
      "5\n"
     ]
    },
    {
     "name": "stderr",
     "output_type": "stream",
     "text": [
      "  2%|▏         | 40/2260 [00:01<01:31, 24.39it/s]"
     ]
    },
    {
     "name": "stdout",
     "output_type": "stream",
     "text": [
      "['II', 'aVR', 'V', 'PLETH', 'ABP']\n",
      "5\n",
      "['II', 'aVR', 'V', 'PLETH', 'ABP']\n",
      "5\n"
     ]
    },
    {
     "name": "stderr",
     "output_type": "stream",
     "text": [
      "  2%|▏         | 46/2260 [00:02<01:31, 24.25it/s]"
     ]
    },
    {
     "name": "stdout",
     "output_type": "stream",
     "text": [
      "['I', 'II', 'V', 'PLETH', 'ABP']\n",
      "5\n",
      "['I', 'II', 'V', 'PLETH', 'ABP']\n",
      "5\n",
      "['II', 'aVR', 'V', 'PLETH', 'ABP']\n",
      "5\n"
     ]
    },
    {
     "name": "stderr",
     "output_type": "stream",
     "text": [
      "  2%|▏         | 50/2260 [00:02<01:20, 27.29it/s]"
     ]
    },
    {
     "name": "stdout",
     "output_type": "stream",
     "text": [
      "['II', 'aVR', 'V', 'PLETH', 'ABP']\n",
      "5\n",
      "['II', 'aVR', 'V', 'PLETH', 'ABP']\n",
      "5\n",
      "['II', 'aVR', 'V', 'PLETH', 'ABP']\n",
      "5\n",
      "['I', 'II', 'III', 'V', 'PLETH', 'ABP']\n",
      "6\n",
      "['I', 'II', 'III', 'V', 'PLETH', 'ABP']\n",
      "6\n"
     ]
    },
    {
     "name": "stderr",
     "output_type": "stream",
     "text": [
      "  2%|▏         | 53/2260 [00:02<01:45, 20.96it/s]"
     ]
    },
    {
     "name": "stdout",
     "output_type": "stream",
     "text": [
      "['I', 'II', 'III', 'V', 'PLETH', 'ABP']\n",
      "6\n",
      "['I', 'II', 'III', 'V', 'PLETH', 'ABP']\n",
      "6\n",
      "['I', 'II', 'III', 'V', 'PLETH', 'ABP']\n",
      "6\n",
      "['I', 'II', 'III', 'V', 'PLETH', 'ABP']\n",
      "6\n",
      "['I', 'II', 'III', 'V', 'PLETH', 'ABP']\n",
      "6\n",
      "['I', 'II', 'III', 'V', 'PLETH', 'ABP']\n",
      "6\n"
     ]
    },
    {
     "name": "stderr",
     "output_type": "stream",
     "text": [
      "  3%|▎         | 60/2260 [00:02<01:32, 23.88it/s]"
     ]
    },
    {
     "name": "stdout",
     "output_type": "stream",
     "text": [
      "['I', 'II', 'III', 'V', 'PLETH', 'ABP']\n",
      "6\n",
      "['II', 'aVR', 'V', 'PLETH', 'ABP']\n",
      "5\n",
      "['II', 'aVR', 'V', 'PLETH', 'ABP']\n",
      "5\n",
      "['I', 'II', 'V', 'PLETH', 'ABP']\n",
      "5\n",
      "['II', 'III', 'V', 'PLETH', 'ABP']\n",
      "5\n"
     ]
    },
    {
     "name": "stderr",
     "output_type": "stream",
     "text": [
      "  3%|▎         | 64/2260 [00:02<01:21, 26.79it/s]"
     ]
    },
    {
     "name": "stdout",
     "output_type": "stream",
     "text": [
      "['II', 'III', 'V', 'PLETH', 'ABP']\n",
      "5\n",
      "['II', 'aVR', 'V', 'PLETH', 'ABP']\n",
      "5\n",
      "['II', 'aVR', 'V', 'PLETH', 'ABP']\n",
      "5\n",
      "['II', 'aVR', 'V', 'PLETH', 'ABP']\n",
      "5\n",
      "['II', 'aVR', 'V', 'PLETH', 'ABP']\n",
      "5\n"
     ]
    },
    {
     "name": "stderr",
     "output_type": "stream",
     "text": [
      "  3%|▎         | 67/2260 [00:03<01:41, 21.56it/s]"
     ]
    },
    {
     "name": "stdout",
     "output_type": "stream",
     "text": [
      "['II', 'aVR', 'V', 'PLETH', 'ABP']\n",
      "5\n",
      "['II', 'aVR', 'V', 'PLETH', 'ABP']\n",
      "5\n",
      "['II', 'aVR', 'V', 'PLETH', 'ABP']\n",
      "5\n",
      "['II', 'aVR', 'V', 'PLETH', 'ABP']\n",
      "5\n",
      "['II', 'aVR', 'V', 'PLETH', 'ABP']\n",
      "5\n"
     ]
    },
    {
     "name": "stderr",
     "output_type": "stream",
     "text": [
      "  3%|▎         | 76/2260 [00:03<01:51, 19.57it/s]"
     ]
    },
    {
     "name": "stdout",
     "output_type": "stream",
     "text": [
      "['II', 'aVR', 'V', 'PLETH', 'ABP']\n",
      "5\n",
      "['II', 'aVR', 'V', 'PLETH', 'ABP']\n",
      "5\n",
      "['II', 'aVR', 'V', 'PLETH', 'ABP']\n",
      "5\n",
      "['II', 'aVR', 'V', 'PLETH', 'ABP']\n",
      "5\n"
     ]
    },
    {
     "name": "stderr",
     "output_type": "stream",
     "text": [
      "  4%|▎         | 83/2260 [00:03<01:33, 23.27it/s]"
     ]
    },
    {
     "name": "stdout",
     "output_type": "stream",
     "text": [
      "['I', 'II', 'III', 'aVR', 'aVL', 'aVF', 'V', 'PLETH', 'ABP']\n",
      "9\n",
      "['II', 'aVR', 'V', 'PLETH', 'ABP']\n",
      "5\n",
      "['II', 'aVR', 'V', 'PLETH', 'ABP']\n",
      "5\n",
      "['II', 'aVR', 'V', 'PLETH', 'ABP']\n",
      "5\n"
     ]
    },
    {
     "name": "stderr",
     "output_type": "stream",
     "text": [
      "  4%|▍         | 86/2260 [00:03<01:36, 22.64it/s]"
     ]
    },
    {
     "name": "stdout",
     "output_type": "stream",
     "text": [
      "['II', 'aVR', 'V', 'PLETH', 'ABP']\n",
      "5\n",
      "['I', 'II', 'III', 'V', 'PLETH', 'ABP']\n",
      "6\n",
      "['I', 'II', 'III', 'V', 'PLETH', 'ABP']\n",
      "6\n",
      "['I', 'II', 'III', 'V', 'PLETH', 'ABP']\n",
      "6\n"
     ]
    },
    {
     "name": "stderr",
     "output_type": "stream",
     "text": [
      "  4%|▍         | 92/2260 [00:04<01:44, 20.77it/s]"
     ]
    },
    {
     "name": "stdout",
     "output_type": "stream",
     "text": [
      "['II', 'aVR', 'V', 'PLETH', 'ABP']\n",
      "5\n"
     ]
    },
    {
     "name": "stderr",
     "output_type": "stream",
     "text": [
      "\n"
     ]
    },
    {
     "ename": "KeyboardInterrupt",
     "evalue": "",
     "output_type": "error",
     "traceback": [
      "\u001B[1;31m---------------------------------------------------------------------------\u001B[0m",
      "\u001B[1;31mKeyboardInterrupt\u001B[0m                         Traceback (most recent call last)",
      "Cell \u001B[1;32mIn[20], line 21\u001B[0m\n\u001B[0;32m     19\u001B[0m \u001B[38;5;28;01mfor\u001B[39;00m event_id \u001B[38;5;129;01min\u001B[39;00m event_id_set:\n\u001B[0;32m     20\u001B[0m     event_path \u001B[38;5;241m=\u001B[39m os\u001B[38;5;241m.\u001B[39mpath\u001B[38;5;241m.\u001B[39mjoin(record_path, event_id)\n\u001B[1;32m---> 21\u001B[0m     sample_record \u001B[38;5;241m=\u001B[39m \u001B[43mwfdb\u001B[49m\u001B[38;5;241;43m.\u001B[39;49m\u001B[43mrdrecord\u001B[49m\u001B[43m(\u001B[49m\u001B[43mevent_path\u001B[49m\u001B[43m)\u001B[49m\u001B[38;5;241m.\u001B[39mp_signal\n\u001B[0;32m     22\u001B[0m     sample_name \u001B[38;5;241m=\u001B[39m wfdb\u001B[38;5;241m.\u001B[39mrdrecord(event_path)\u001B[38;5;241m.\u001B[39mrecord_name\n\u001B[0;32m     23\u001B[0m     sig_names \u001B[38;5;241m=\u001B[39m wfdb\u001B[38;5;241m.\u001B[39mrdrecord(event_path)\u001B[38;5;241m.\u001B[39msig_name\n",
      "File \u001B[1;32m~\\AppData\\Local\\Programs\\Python\\Python310\\lib\\site-packages\\wfdb\\io\\record.py:2143\u001B[0m, in \u001B[0;36mrdrecord\u001B[1;34m(record_name, sampfrom, sampto, channels, physical, pn_dir, m2s, smooth_frames, ignore_skew, return_res, force_channels, channel_names, warn_empty)\u001B[0m\n\u001B[0;32m   2137\u001B[0m     record\u001B[38;5;241m.\u001B[39m_arrange_fields(\n\u001B[0;32m   2138\u001B[0m         channels\u001B[38;5;241m=\u001B[39mchannels, sampfrom\u001B[38;5;241m=\u001B[39msampfrom, smooth_frames\u001B[38;5;241m=\u001B[39m\u001B[38;5;28;01mTrue\u001B[39;00m\n\u001B[0;32m   2139\u001B[0m     )\n\u001B[0;32m   2141\u001B[0m     \u001B[38;5;28;01mif\u001B[39;00m physical:\n\u001B[0;32m   2142\u001B[0m         \u001B[38;5;66;03m# Perform inplace dac to get physical signal\u001B[39;00m\n\u001B[1;32m-> 2143\u001B[0m         \u001B[43mrecord\u001B[49m\u001B[38;5;241;43m.\u001B[39;49m\u001B[43mdac\u001B[49m\u001B[43m(\u001B[49m\u001B[43mexpanded\u001B[49m\u001B[38;5;241;43m=\u001B[39;49m\u001B[38;5;28;43;01mFalse\u001B[39;49;00m\u001B[43m,\u001B[49m\u001B[43m \u001B[49m\u001B[43mreturn_res\u001B[49m\u001B[38;5;241;43m=\u001B[39;49m\u001B[43mreturn_res\u001B[49m\u001B[43m,\u001B[49m\u001B[43m \u001B[49m\u001B[43minplace\u001B[49m\u001B[38;5;241;43m=\u001B[39;49m\u001B[38;5;28;43;01mTrue\u001B[39;49;00m\u001B[43m)\u001B[49m\n\u001B[0;32m   2145\u001B[0m \u001B[38;5;66;03m# Return each sample of the signals with multiple samples per frame\u001B[39;00m\n\u001B[0;32m   2146\u001B[0m \u001B[38;5;28;01melse\u001B[39;00m:\n\u001B[0;32m   2147\u001B[0m     \u001B[38;5;66;03m# Arrange/edit the object fields to reflect user channel\u001B[39;00m\n\u001B[0;32m   2148\u001B[0m     \u001B[38;5;66;03m# and/or signal range input\u001B[39;00m\n\u001B[0;32m   2149\u001B[0m     record\u001B[38;5;241m.\u001B[39m_arrange_fields(\n\u001B[0;32m   2150\u001B[0m         channels\u001B[38;5;241m=\u001B[39mchannels, sampfrom\u001B[38;5;241m=\u001B[39msampfrom, smooth_frames\u001B[38;5;241m=\u001B[39m\u001B[38;5;28;01mFalse\u001B[39;00m\n\u001B[0;32m   2151\u001B[0m     )\n",
      "File \u001B[1;32m~\\AppData\\Local\\Programs\\Python\\Python310\\lib\\site-packages\\wfdb\\io\\_signal.py:672\u001B[0m, in \u001B[0;36mSignalMixin.dac\u001B[1;34m(self, expanded, return_res, inplace)\u001B[0m\n\u001B[0;32m    669\u001B[0m nanlocs \u001B[38;5;241m=\u001B[39m \u001B[38;5;28mself\u001B[39m\u001B[38;5;241m.\u001B[39md_signal \u001B[38;5;241m==\u001B[39m d_nans\n\u001B[0;32m    670\u001B[0m \u001B[38;5;66;03m# Do float conversion immediately to avoid potential under/overflow\u001B[39;00m\n\u001B[0;32m    671\u001B[0m \u001B[38;5;66;03m# of efficient int dtype\u001B[39;00m\n\u001B[1;32m--> 672\u001B[0m \u001B[38;5;28mself\u001B[39m\u001B[38;5;241m.\u001B[39md_signal \u001B[38;5;241m=\u001B[39m \u001B[38;5;28;43mself\u001B[39;49m\u001B[38;5;241;43m.\u001B[39;49m\u001B[43md_signal\u001B[49m\u001B[38;5;241;43m.\u001B[39;49m\u001B[43mastype\u001B[49m\u001B[43m(\u001B[49m\u001B[43mfloatdtype\u001B[49m\u001B[43m,\u001B[49m\u001B[43m \u001B[49m\u001B[43mcopy\u001B[49m\u001B[38;5;241;43m=\u001B[39;49m\u001B[38;5;28;43;01mFalse\u001B[39;49;00m\u001B[43m)\u001B[49m\n\u001B[0;32m    673\u001B[0m np\u001B[38;5;241m.\u001B[39msubtract(\u001B[38;5;28mself\u001B[39m\u001B[38;5;241m.\u001B[39md_signal, \u001B[38;5;28mself\u001B[39m\u001B[38;5;241m.\u001B[39mbaseline, \u001B[38;5;28mself\u001B[39m\u001B[38;5;241m.\u001B[39md_signal)\n\u001B[0;32m    674\u001B[0m np\u001B[38;5;241m.\u001B[39mdivide(\u001B[38;5;28mself\u001B[39m\u001B[38;5;241m.\u001B[39md_signal, \u001B[38;5;28mself\u001B[39m\u001B[38;5;241m.\u001B[39madc_gain, \u001B[38;5;28mself\u001B[39m\u001B[38;5;241m.\u001B[39md_signal)\n",
      "\u001B[1;31mKeyboardInterrupt\u001B[0m: "
     ]
    }
   ],
   "execution_count": 20
  },
  {
   "metadata": {
    "ExecuteTime": {
     "end_time": "2025-03-26T15:42:54.240091Z",
     "start_time": "2025-03-26T15:42:54.221179Z"
    }
   },
   "cell_type": "code",
   "source": [
    "for sig_name in lead_count:\n",
    "    print(sig_name, lead_count[sig_name] / record_cnt)\n",
    "    print(sig_name, lead_count[sig_name])"
   ],
   "id": "a50db580d6e8e939",
   "outputs": [
    {
     "name": "stdout",
     "output_type": "stream",
     "text": [
      "I 0.41229554427523973\n",
      "I 731\n",
      "II 0.9870276367738297\n",
      "II 1750\n",
      "V 0.9018612521150592\n",
      "V 1599\n",
      "PLETH 1.0\n",
      "PLETH 1773\n",
      "ABP 1.0\n",
      "ABP 1773\n",
      "aVR 0.6322617033276932\n",
      "aVR 1121\n",
      "III 0.38635081782289904\n",
      "III 685\n",
      "V1 0.07501410039481106\n",
      "V1 133\n",
      "aVL 0.08573040045121263\n",
      "aVL 152\n",
      "aVF 0.08065425831923294\n",
      "aVF 143\n",
      "V2 0.044557247602932885\n",
      "V2 79\n",
      "V3 0.04004512126339538\n",
      "V3 71\n",
      "V4 0.04004512126339538\n",
      "V4 71\n",
      "V5 0.04004512126339538\n",
      "V5 71\n",
      "V6 0.04004512126339538\n",
      "V6 71\n",
      "MCL 0.011280315848843767\n",
      "MCL 20\n"
     ]
    }
   ],
   "execution_count": 16
  }
 ],
 "metadata": {
  "kernelspec": {
   "display_name": "Python 3",
   "language": "python",
   "name": "python3"
  },
  "language_info": {
   "codemirror_mode": {
    "name": "ipython",
    "version": 2
   },
   "file_extension": ".py",
   "mimetype": "text/x-python",
   "name": "python",
   "nbconvert_exporter": "python",
   "pygments_lexer": "ipython2",
   "version": "2.7.6"
  }
 },
 "nbformat": 4,
 "nbformat_minor": 5
}
